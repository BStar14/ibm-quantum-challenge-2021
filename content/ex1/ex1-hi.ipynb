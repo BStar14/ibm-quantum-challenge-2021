{
 "cells": [
  {
   "cell_type": "markdown",
   "metadata": {},
   "source": [
    "# अभ्यास 1 - Toffoli gate\n",
    "\n",
    "## ऐतिहासिक पृष्ठभूमि\n",
    "\n",
    "चालीस साल पहले, 50 विचारकों के एक रैगटैग समूह ने MIT के Endicott House के लॉन पर एक तस्वीर के लिए खुद को व्यवस्थित किया। MIT और IBM द्वारा संयुक्त रूप से आयोजित Physics of Computation सम्मेलन में कुछ लोगों ने सोचा कि वे 1981 में इतिहास रच रहे हैं। यह यकीनन Physics of Computation का जन्मस्थान था, और विशेष रूप से Quantum Computing के अब-बढ़ते क्षेत्र, एक गंभीर विषय के रूप में योग्य है। एक पाठ्यपुस्तक या विश्वविद्यालय पाठ्यक्रम\n",
    "\n",
    "यह इस सम्मेलन में था जहां फेनमैन ने अपने अब तक के प्रसिद्ध उद्धरण का उच्चारण किया: "प्रकृति शास्त्रीय नहीं है, लानत है, और यदि आप प्रकृति का अनुकरण करना चाहते हैं, तो आप इसे Quantum Mechanical बनाना बेहतर समझते हैं, और से यह एक अद्भुत समस्या है , क्योंकि यह इतना आसान नहीं लगता है।" [१] इस महीने की शुरुआत में, हमने इस महत्वपूर्ण सम्मेलन की ४०वीं वर्षगांठ मनाई। आप और पढ़ सकते हैं [here](https://youtu.be/GR6ANm6Z0yk).\n",
    "\n",
    "![](resources/conference-photo.jpeg)\n",
    "\n",
    "सम्मेलन में चर्चा किये गये विषयों में से एक reversible computing था, जिसके बारे में MIT में Tommaso Toffoli और Edward Fredkin पिछले कुछ वर्षों से सोच रहे थे। [२-३] Toffoli ने AND/NAND gate के reversible version के साथ आया (जो कि अब Toffoli gate, या controlled-controlled-NOT gate कहा जाता है)। क्योंकि classical computing में NAND gate यूनिवर्सल है, Toffoli गेट एक universal reversible logic gate है।  Quantum computing, reversible computing का एक विशेष रूप है; किसी भी reversible gate को quantum computer पर लागू किया जा सकता है, और इसलिए Toffoli gate भी एक क्quantum logic gateट है। हालांकि, अकेले Toffoli gate क्Quantum computing के लिए एक सार्वभौमिक gate नहीं है। \n",
    "\n",
    "इस अभ्यास में, हम क्quantum computers के लिए Toffoli gate और universal gate sets का पता लगाएंगे।\n",
    "\n",
    "### संदर्भ \n",
    "1. Feynman, Richard P. \"Simulating physics with computers.\" Int. J. Theor. Phys 21.6/7 (1982).\n",
    "1. Toffoli, Tommaso. \"Reversible computing.\" International colloquium on automata, languages, and programming. Springer, Berlin, Heidelberg, 1980.\n",
    "1. Fredkin, Edward, and Tommaso Toffoli. \"Conservative logic.\" International Journal of theoretical physics 21.3 (1982): 219-253."
   ]
  },
  {
   "cell_type": "markdown",
   "metadata": {},
   "source": [
    "## Classical logic gates\n",
    "\n",

