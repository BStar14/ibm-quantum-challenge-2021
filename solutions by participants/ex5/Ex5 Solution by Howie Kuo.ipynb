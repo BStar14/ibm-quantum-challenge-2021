{
 "cells": [
  {
   "cell_type": "markdown",
   "id": "362713dd",
   "metadata": {},
   "source": [
    "# Approach\n",
    "\n",
    "This notebook describes a linear account of my thinking process in solving the exercise. Throughout the document, I will frequentely present lists of facts that I have established, and assumptions I made in order to proceed.\n",
    "\n",
    "By keeping track of the fact list, I build up an understanding of how things work. And the items in the assumptions, will eventually be moved to the fact list, replaced with new ones, or be discarded.These two list are decimal numbered for easy reference.\n"
   ]
  },
  {
   "cell_type": "markdown",
   "id": "6cada281",
   "metadata": {},
   "source": [
    "## 1 Exploring Qiskit \n",
    "### 1.1 Read through the background theory"
   ]
  },
  {
   "cell_type": "markdown",
   "id": "0c243ba5",
   "metadata": {},
   "source": [
    "The first thing I did was to explore the Hydrogen example given in the notebook. Personally, I am more of a Python programmer then a Quantum chemist. Hence, I find the python codes easier to understand then the technical blurb in the theory section. So, although I did read the theory section, I did not gain too much useful information.\n",
    "\n",
    "\n",
    "\n"
   ]
  },
  {
   "cell_type": "markdown",
   "id": "c6729e1e",
   "metadata": {},
   "source": [
    "#### fact:\n",
    "nil\n",
    "#### assumption:\n",
    "nil"
   ]
  },
  {
   "cell_type": "markdown",
   "id": "dd6c311a",
   "metadata": {},
   "source": [
    "### 1.2 Exploring the code"
   ]
  },
  {
   "cell_type": "markdown",
   "id": "343a381d",
   "metadata": {},
   "source": [
    "The first piece of the code is to specify the $H_2$ molecure and obtain the driver. From reading the code, the first thing I notice is that I need the `qmolecule` object returned from executing `driver.run()`\n",
    "\n",
    "This is where being familier with Jupyter helps. In jupyter notebook, a very helpful command is the `?` and `??` applied to objects, function, or modules. This will popup a panel at the bottom of the notebook showing the docstring `?`, and the source code `??` from the code in the current system. \n"
   ]
  },
  {
   "cell_type": "code",
   "execution_count": 5,
   "id": "41aa96bd",
   "metadata": {},
   "outputs": [],
   "source": [
    "## this is just to execute the example given so that the ? and ?? has some objects to work on\n",
    "from qiskit_nature.drivers import PySCFDriver\n",
    "molecule = \"H .0 .0 .0; H .0 .0 0.739\"\n",
    "driver = PySCFDriver(atom=molecule)\n",
    "qmolecule = driver.run()"
   ]
  },
  {
   "cell_type": "markdown",
   "id": "0eaee412",
   "metadata": {},
   "source": [
    "Try `shift-Enter` in the following cell to see this feature in operation."
   ]
  },
  {
   "cell_type": "code",
   "execution_count": 12,
   "id": "06c30ca4",
   "metadata": {},
   "outputs": [],
   "source": [
    "qmolecule?"
   ]
  },
  {
   "cell_type": "code",
   "execution_count": 10,
   "id": "877c961b",
   "metadata": {},
   "outputs": [],
   "source": [
    "driver.run?"
   ]
  },
  {
   "cell_type": "code",
   "execution_count": 11,
   "id": "88f51efb",
   "metadata": {},
   "outputs": [],
   "source": [
    "PySCFDriver?"
   ]
  },
  {
   "cell_type": "markdown",
   "id": "bf5c2c0f",
   "metadata": {},
   "source": [
    "Now, we have obtained some information about the code:"
   ]
  },
  {
   "cell_type": "markdown",
   "id": "0d484516",
   "metadata": {},
   "source": [
    "fact:\n",
    "1. PySCDFDriver have additional parameters that can be tuned. \n",
    "2. qmolecule contains properties of the molecule."
   ]
  },
  {
   "cell_type": "markdown",
   "id": "d24d9909",
   "metadata": {},
   "source": [
    "For tutorial question 1, I had a quick look at the qmolecule object with `??` and the information can be infered from reading the source code and comment of the __init__ function."
   ]
  },
  {
   "cell_type": "code",
   "execution_count": 13,
   "id": "bf51cca5",
   "metadata": {},
   "outputs": [],
   "source": [
    "qmolecule??"
   ]
  },
  {
   "cell_type": "markdown",
   "id": "d2437b74",
   "metadata": {},
   "source": [
    "Note: From this point onwards, I am only going to point out the object that I have explored, and the facts I have obtained by source code diving without presenting the details. Just to make the descriptiuon short."
   ]
  },
  {
   "cell_type": "markdown",
   "id": "cc35a1bf",
   "metadata": {},
   "source": [
    "**Aside:** In the next cell, I am going to load all the imports that are used through out the exercise so that everything is made avaliable in this notebook."
   ]
  },
  {
   "cell_type": "code",
   "execution_count": 14,
   "id": "6e5101f5",
   "metadata": {},
   "outputs": [],
   "source": [
    "from qiskit_nature.drivers import PySCFDriver\n",
    "from qiskit_nature.problems.second_quantization.electronic import ElectronicStructureProblem\n",
    "from qiskit_nature.transformers import FreezeCoreTransformer\n",
    "from qiskit_nature.mappers.second_quantization import ParityMapper, BravyiKitaevMapper, JordanWignerMapper\n",
    "from qiskit_nature.converters.second_quantization.qubit_converter import QubitConverter\n",
    "from qiskit_nature.circuit.library import HartreeFock\n",
    "from qiskit.circuit.library import TwoLocal\n",
    "from qiskit_nature.circuit.library import UCCSD, PUCCD, SUCCD\n",
    "from qiskit import Aer\n",
    "from qiskit.compiler import transpile\n",
    "from qiskit.algorithms.optimizers import COBYLA, L_BFGS_B, SPSA, SLSQP\n",
    "from qiskit_nature.algorithms.ground_state_solvers.minimum_eigensolver_factories import NumPyMinimumEigensolverFactory\n",
    "from qiskit_nature.algorithms.ground_state_solvers import GroundStateEigensolver\n",
    "import numpy as np \n",
    "from qiskit.algorithms import VQE\n",
    "from IPython.display import display, clear_output\n",
    "from qiskit.transpiler import PassManager\n",
    "from qiskit.transpiler.passes import Unroller   "
   ]
  },
  {
   "cell_type": "markdown",
   "id": "03440c86",
   "metadata": {},
   "source": [
    "Next, the function to explore are the `ElectronicStructureProblem` and `second_q_ops`"
   ]
  },
  {
   "cell_type": "code",
   "execution_count": 16,
   "id": "3950ee8a",
   "metadata": {},
   "outputs": [],
   "source": [
    "ElectronicStructureProblem??"
   ]
  },
  {
   "cell_type": "markdown",
   "id": "fec71d03",
   "metadata": {},
   "source": [
    "fact:\n",
    "1. PySCDFDriver have additional parameters that can be tuned.\n",
    "2. qmolecule contains properties of the molecule.\n",
    "3. ElectronicsStructureProblem takes a second parameter of the class `qiskit_nature.transformers.base_transformer.BaseTransformer`\n",
    "4. second_q_ops returns a list and it appears that the code only interested in the first element. (from the comment in the source code, the first in the list is 'electronic operator'"
   ]
  },
  {
   "cell_type": "markdown",
   "id": "f67a2281",
   "metadata": {},
   "source": [
    "Now, we come to the qubit converter section. Which echos some of the confusing terminologies read in the theory section. These are mappers and converters."
   ]
  },
  {
   "cell_type": "markdown",
   "id": "3b681068",
   "metadata": {},
   "source": [
    "#### Assumption:\n",
    "1. converter and mappers are important parameter to tune."
   ]
  },
  {
   "cell_type": "markdown",
   "id": "57962527",
   "metadata": {},
   "source": [
    "Firstly, lets check out the `ParityMapper`, and then the other two that are in the code but not used."
   ]
  },
  {
   "cell_type": "code",
   "execution_count": 18,
   "id": "7f0569f2",
   "metadata": {},
   "outputs": [],
   "source": [
    "ParityMapper?"
   ]
  },
  {
   "cell_type": "code",
   "execution_count": 19,
   "id": "7ba1bd8c",
   "metadata": {},
   "outputs": [],
   "source": [
    "JordanWignerMapper?"
   ]
  },
  {
   "cell_type": "code",
   "execution_count": 20,
   "id": "15569054",
   "metadata": {},
   "outputs": [],
   "source": [
    "BravyiKitaevMapper?"
   ]
  },
  {
   "cell_type": "markdown",
   "id": "9e6d98ce",
   "metadata": {},
   "source": [
    "When I go through the documentation, I took note that these all takes a parameter named `allows_two_qubit_reduction` but I did not pay too much attention till later."
   ]
  },
  {
   "cell_type": "code",
   "execution_count": 21,
   "id": "55a763fd",
   "metadata": {},
   "outputs": [],
   "source": [
    "QubitConverter?"
   ]
  },
  {
   "cell_type": "markdown",
   "id": "86214e01",
   "metadata": {},
   "source": [
    "When I get to look into the document for the converter, I noted that there is another `two_qubit_reduction` parameter and another `z2symmetry_reduction`.\n",
    "\n",
    "Hindsight is always great, but again I just take note and wanting to get to the VQE and the optimizer."
   ]
  },
  {
   "cell_type": "markdown",
   "id": "a31a1365",
   "metadata": {},
   "source": [
    "Next, I did the same with `HartreeFock` function and also note that how the property of the molecule are used to provide the parameters for some of these function."
   ]
  },
  {
   "cell_type": "code",
   "execution_count": 22,
   "id": "6e572c74",
   "metadata": {},
   "outputs": [],
   "source": [
    "HartreeFock?"
   ]
  },
  {
   "cell_type": "markdown",
   "id": "f30af701",
   "metadata": {},
   "source": [
    "#### ANSATZ\n",
    "When I read this part of the code, I immediately assumed that this is the place where all the tuning parameters are. (hindsight: Mapper and converter is where all the tuning happens initially) In summary, these are the additional information obtained."
   ]
  },
  {
   "cell_type": "markdown",
   "id": "2eac4107",
   "metadata": {},
   "source": [
    "fact:\n",
    "1. PySCDFDriver have additional parameters that can be tuned.\n",
    "2. qmolecule contains properties of the molecule.\n",
    "3. ElectronicsStructureProblem takes a second parameter of the class `qiskit_nature.transformers.base_transformer.BaseTransformer`\n",
    "4. second_q_ops returns a list and it appears that the code only interested in the first element. (from the comment in the source code, the first in the list is 'electronic operator'\n",
    "5. TwoLocal have a lot of parameters with many combinations. Remember to look at the document later.\n",
    "6. UCCSD, SUCCD, PUCCD are all related, but they have a lot less parameter to tune."
   ]
  },
  {
   "cell_type": "code",
   "execution_count": 25,
   "id": "81498d3d",
   "metadata": {},
   "outputs": [],
   "source": [
    "TwoLocal?"
   ]
  },
  {
   "cell_type": "code",
   "execution_count": 26,
   "id": "7ce60c99",
   "metadata": {},
   "outputs": [],
   "source": [
    "UCCSD?"
   ]
  },
  {
   "cell_type": "code",
   "execution_count": 28,
   "id": "16b5a51c",
   "metadata": {},
   "outputs": [],
   "source": [
    "SUCCD?"
   ]
  },
  {
   "cell_type": "code",
   "execution_count": 30,
   "id": "85fabb61",
   "metadata": {},
   "outputs": [],
   "source": [
    "PUCCD?"
   ]
  },
  {
   "cell_type": "markdown",
   "id": "1d2254f5",
   "metadata": {},
   "source": [
    "I also noted that the UCCSD, SUCCD. PUCCD are all subclass of `UCC`. To me, all of these acronymes do not mean much, but from experience with python, I know that there may be parameters hidden in the parent class. So, I want to find `UCC` and see what I can find. "
   ]
  },
  {
   "cell_type": "code",
   "execution_count": 31,
   "id": "1993927a",
   "metadata": {},
   "outputs": [],
   "source": [
    "from qiskit_nature.circuit.library import UCC"
   ]
  },
  {
   "cell_type": "code",
   "execution_count": 32,
   "id": "ab8d9c8a",
   "metadata": {},
   "outputs": [],
   "source": [
    "UCC?"
   ]
  },
  {
   "cell_type": "markdown",
   "id": "5cb09003",
   "metadata": {},
   "source": [
    "Read this document and I think to myself, jackpot. The plan of attack start to become clear. \n",
    "1. create the equivelent code for the LiH molecule. \n",
    "2. investigate the set of parameters found hidden in UCC, and start to optimise.\n",
    "\n",
    "<font color='red'>I did not need to explore these parameters at the end. But knowing what's avaliable for tuning is always good.</font> "
   ]
  },
  {
   "cell_type": "markdown",
   "id": "9b793a47",
   "metadata": {},
   "source": [
    "By now, I have spend several hours exploring the code, and finally got to some more familiar terrotory. The four optimizers. Firstly, my attention was drawn to the comment that I might need to change the parameters. BUT, from my experience, these are local optimisers, and there is not much tuning one can do except to reduce the tolerence, or the maximum evaluation or iterations.\n",
    "\n",
    "Looking into the code, they don't look special and probably comes from the scipy package.\n",
    "\n",
    "Instead of the default `COBLA`, I switched it to `SLSQP` mostly out of personal familiarity with that algorithm."
   ]
  },
  {
   "cell_type": "code",
   "execution_count": 36,
   "id": "6343a9d3",
   "metadata": {},
   "outputs": [],
   "source": [
    "# check out the document of the different optimisation algoriths if you need to\n",
    "#COBYLA?\n",
    "SLSQP?"
   ]
  },
  {
   "cell_type": "markdown",
   "id": "e847eb52",
   "metadata": {},
   "source": [
    "Next, we were introduced with another new function `GroundStateEigensolver`. From the documentation, it takes the converter as input, and what appears to be a generic Eigen Solver. "
   ]
  },
  {
   "cell_type": "code",
   "execution_count": 38,
   "id": "fbe3a230",
   "metadata": {},
   "outputs": [],
   "source": [
    "GroundStateEigensolver??"
   ]
  },
  {
   "cell_type": "code",
   "execution_count": 40,
   "id": "4a8594e6",
   "metadata": {},
   "outputs": [],
   "source": [
    "solver = NumPyMinimumEigensolverFactory()\n",
    "solver?"
   ]
  },
  {
   "cell_type": "markdown",
   "id": "10b7e20c",
   "metadata": {},
   "source": [
    "Note: usually, sufficient information can be obtained by appending `?` to the end of a function. In the above case, when the function returns a python object, it is more infromative to realise the object and perform the `?` on the object itself to get the information."
   ]
  },
  {
   "cell_type": "markdown",
   "id": "adfb342d",
   "metadata": {},
   "source": [
    "Finally, we got to the section of code that execute the `VQE`, and the required argument list do not contain anything that looks like a tuning parameter."
   ]
  },
  {
   "cell_type": "code",
   "execution_count": 41,
   "id": "a100f625",
   "metadata": {},
   "outputs": [],
   "source": [
    "VQE?"
   ]
  },
  {
   "cell_type": "markdown",
   "id": "40e0a5ea",
   "metadata": {},
   "source": [
    "Tutorial Question Two asked us to explore all the tunerable parameters and provide the ansatz. Which I skipped."
   ]
  },
  {
   "cell_type": "markdown",
   "id": "49923b9f",
   "metadata": {},
   "source": [
    "## Final Challenge"
   ]
  },
  {
   "cell_type": "markdown",
   "id": "dfd9d154",
   "metadata": {},
   "source": [
    "### Review known information"
   ]
  },
  {
   "cell_type": "code",
   "execution_count": 46,
   "id": "dded4135",
   "metadata": {},
   "outputs": [],
   "source": [
    "import qiskit_nature\n",
    "qiskit_nature.transformers??"
   ]
  },
  {
   "cell_type": "code",
   "execution_count": 29,
   "id": "8070237b",
   "metadata": {},
   "outputs": [],
   "source": [
    "PUCCD?\n",
    "\n",
    "backend = Aer.get_backend('statevector_simulator')\n",
    "experiment_name = 'LiH'\n",
    "\n",
    "def exact_diagonalizer(problem, converter):\n",
    "    solver = NumPyMinimumEigensolverFactory()\n",
    "    calc = GroundStateEigensolver(converter, solver)\n",
    "    result = calc.solve(problem)\n",
    "    return result\n"
   ]
  },
  {
   "cell_type": "code",
   "execution_count": 15,
   "id": "e39c5a8f",
   "metadata": {},
   "outputs": [
    {
     "name": "stdout",
     "output_type": "stream",
     "text": [
      "{'pass': True, 'optimizer': 'SLSQP', 'mapping': 'ParityMapper', 'ansatz': 'QuantumCircuit', 'rotation blocks': None, 'entanglement_blocks': None, 'entanglement': None, 'repetitions': None, 'skip_final_rotation_layer': None, 'energy (Ha)': -1.0863669545487198, 'error (mHa)': 2.339061186023228, '# of parameters': 16, 'final parameters': array([ 1.00074397e-02,  1.43050536e-01,  1.07739840e-05,  5.25675323e-02,\n",
      "        3.13162454e+00,  3.19040562e+00,  4.44288366e-01,  1.00052453e-02,\n",
      "        1.00023356e-02,  1.00013432e-02,  2.52352162e-01, -5.66658827e-03,\n",
      "       -3.14157233e+00, -2.69653213e+00, -6.87063637e-02,  7.43705286e-02]), '# of evaluations': 905, 'optimizer time': 4.5313210419990355, '# of qubits': 4, '# of CNOTs': 3, 'score': 3}\n"
     ]
    },
    {
     "data": {
      "image/png": "[encoded data removed]",
      "text/plain": [
       "<Figure size 568.197x264.88 with 1 Axes>"
      ]
     },
     "execution_count": 15,
     "metadata": {},
     "output_type": "execute_result"
    },
    {
     "data": {
      "image/png": "[encoded data removed]",
      "text/plain": [
       "<Figure size 432x288 with 1 Axes>"
      ]
     },
     "metadata": {
      "needs_background": "light"
     },
     "output_type": "display_data"
    }
   ],
   "source": [
    "def run(experiment_name='LiH', show_plot = True, save_plot=False):\n",
    "    if experiment_name == 'LiH':\n",
    "        molecule = 'Li 0.0 0.0 0.0; H 0.0 0.0 1.5474'\n",
    "    elif experiment_name == 'H2':\n",
    "        molecule = \"H .0 .0 .0; H .0 .0 0.739\"\n",
    "    freeze = True # True\n",
    "    orbital_removal = [3,4]\n",
    "    mapper_type = \"ParityMapper\"# 'ParityMapper' # 'JordanWignerMapper', 'BravyiKitaevMapper', 'ParityMapper'\n",
    "    # Choose the ansatz\n",
    "    ansatz_type = \"Custom\" # \"TwoLocal\", \"UCCSD\", \"PUCCD\", \"SUCCD\" \"Custom\"\n",
    "    optimizer_type = 'SLSQP' # 'ESCH', 'SLSQP','L_BFGS_B'\n",
    "    p_rep = 2 ## TwoLocal Repetition\n",
    "    two_qubit_reduction = True\n",
    "    z2symmetry_reduction = [1,1]    \n",
    "\n",
    "    driver = PySCFDriver(atom=molecule)\n",
    "    qmolecule = driver.run()\n",
    "\n",
    "    ## create electronics structure problem\n",
    "    freezeT = FreezeCoreTransformer(freeze_core=True, remove_orbitals=orbital_removal)\n",
    "    if freeze == True:\n",
    "        problem = ElectronicStructureProblem(driver, q_molecule_transformers = [freezeT])\n",
    "    else:\n",
    "        problem = ElectronicStructureProblem(driver)\n",
    "\n",
    "    # Generate the second-quantized operators\n",
    "    second_q_ops = problem.second_q_ops()\n",
    "\n",
    "    # Hamiltonian\n",
    "    main_op = second_q_ops[0]\n",
    "\n",
    "    # Setup the mapper and qubit converter\n",
    "\n",
    "\n",
    "    if mapper_type == 'ParityMapper':\n",
    "        mapper = ParityMapper()\n",
    "    elif mapper_type == 'JordanWignerMapper':\n",
    "        mapper = JordanWignerMapper()\n",
    "    elif mapper_type == 'BravyiKitaevMapper':  ## this gives a good starting point\n",
    "        mapper = BravyiKitaevMapper()\n",
    "\n",
    "    # The fermionic operators are mapped to qubit operators\n",
    "    num_particles = (problem.molecule_data_transformed.num_alpha,\n",
    "                 problem.molecule_data_transformed.num_beta)\n",
    "    num_spin_orbitals = 2 * problem.molecule_data_transformed.num_molecular_orbitals\n",
    "\n",
    "    converter = QubitConverter(mapper=mapper, \n",
    "                               two_qubit_reduction=two_qubit_reduction, \n",
    "                               z2symmetry_reduction=z2symmetry_reduction)\n",
    "\n",
    "    qubit_op = converter.convert(main_op, num_particles=num_particles)\n",
    "\n",
    "    init_state = HartreeFock(num_spin_orbitals, num_particles, converter)\n",
    "\n",
    "\n",
    "    # print('init_state', init_state)\n",
    "\n",
    "    # Put arguments for twolocal\n",
    "    if ansatz_type == \"TwoLocal\":\n",
    "        # Single qubit rotations that are placed on all qubits with independent parameters\n",
    "        rotation_blocks = ['rz', 'ry']\n",
    "        # Entangling gates\n",
    "        entanglement_blocks = ['cx']\n",
    "        # How the qubits are entangled \n",
    "        entanglement = 'linear'\n",
    "        # Repetitions of rotation_blocks + entanglement_blocks with independent parameters\n",
    "        repetitions = p_rep\n",
    "        # Skip the final rotation_blocks layer\n",
    "        skip_final_rotation_layer = True\n",
    "        ansatz = TwoLocal(qubit_op.num_qubits, rotation_blocks, entanglement_blocks, reps=repetitions, \n",
    "                          entanglement=entanglement, skip_final_rotation_layer=skip_final_rotation_layer)\n",
    "        # Add the initial state\n",
    "        ansatz.compose(init_state, front=True, inplace=True)\n",
    "    elif ansatz_type == \"UCCSD\":\n",
    "        ansatz = UCCSD(converter,num_particles,num_spin_orbitals,initial_state = init_state)\n",
    "    elif ansatz_type == \"PUCCD\":\n",
    "        ansatz = PUCCD(converter,num_particles,num_spin_orbitals,initial_state = init_state)\n",
    "    elif ansatz_type == \"SUCCD\":\n",
    "        ansatz = SUCCD(converter,num_particles,num_spin_orbitals,initial_state = init_state)\n",
    "\n",
    "    elif ansatz_type == \"Custom\":\n",
    "        # Single qubit rotations that are placed on all qubits with independent parameters\n",
    "        rotation_blocks = ['rz', 'ry']\n",
    "        # Entangling gates\n",
    "        entanglement_blocks = ['cx']\n",
    "        # How the qubits are entangled \n",
    "        entanglement = 'linear'\n",
    "        # Repetitions of rotation_blocks + entanglement_blocks with independent parameters\n",
    "        repetitions = 1\n",
    "        # Skip the final rotation_blocks layer\n",
    "        skip_final_rotation_layer = False\n",
    "        ansatz = TwoLocal(qubit_op.num_qubits, rotation_blocks, entanglement_blocks, reps=repetitions, \n",
    "                          entanglement=entanglement, skip_final_rotation_layer=skip_final_rotation_layer)\n",
    "        ansatz = transpile(ansatz, backend=backend, seed_transpiler=0, optimization_level=2)\n",
    "        ansatz = transpile(ansatz, backend=backend, seed_transpiler=0, optimization_level=3)\n",
    "        ansatz.compose(init_state, front=True, inplace=True)\n",
    "\n",
    "    # You may want to tune the parameters \n",
    "    # of each optimizer, here the defaults are used\n",
    "    if optimizer_type == 'COBYLA':\n",
    "        optimizer = COBYLA(maxiter=3000)\n",
    "    elif optimizer_type == 'L_BFGS_B':\n",
    "        optimizer = L_BFGS_B(maxfun=500)\n",
    "    elif optimizer_type == 'SPSA':\n",
    "        optimizer = SPSA(maxiter=500)\n",
    "    elif optimizer_type == 'SLSQP':\n",
    "        optimizer = SLSQP(maxiter=3000, ftol=1e-10, tol=1e-10) \n",
    "\n",
    "    result_exact = exact_diagonalizer(problem, converter)\n",
    "    exact_energy = np.real(result_exact.eigenenergies[0])\n",
    "    #print(\"Exact electronic energy\", exact_energy)\n",
    "    #print(result_exact)\n",
    "\n",
    "    counts = []\n",
    "    values = []\n",
    "    params = []\n",
    "    deviation = []\n",
    "    # Print and save the data in lists\n",
    "    def callback(eval_count, parameters, mean, std):  \n",
    "        # Overwrites the same line when printing\n",
    "        display(\"Evaluation: {}, Energy: {}, Std: {}\".format(eval_count, mean, std))\n",
    "        clear_output(wait=True)\n",
    "        counts.append(eval_count)\n",
    "        values.append(mean)\n",
    "        params.append(parameters)\n",
    "        deviation.append(std) \n",
    "\n",
    "    # Set initial parameters of the ansatz\n",
    "    # We choose a fixed small displacement \n",
    "    # So all participants start from similar starting point\n",
    "    try:\n",
    "        initial_point = [0.01] * len(ansatz.ordered_parameters)\n",
    "    except:\n",
    "        initial_point = [0.01] * ansatz.num_parameters\n",
    "\n",
    "\n",
    "\n",
    "    algorithm = VQE(ansatz,\n",
    "                    optimizer=optimizer,\n",
    "                    quantum_instance=backend,\n",
    "                    callback=callback,\n",
    "                    initial_point=initial_point)\n",
    "\n",
    "    result = algorithm.compute_minimum_eigenvalue(qubit_op)\n",
    "\n",
    "    ## print(result)\n",
    "\n",
    "\n",
    "    # Unroller transpile your circuit into CNOTs and U gates\n",
    "    pass_ = Unroller(['u', 'cx'])\n",
    "    pm = PassManager(pass_)\n",
    "    ansatz_tp = pm.run(ansatz)\n",
    "    cnots = ansatz_tp.count_ops()['cx']\n",
    "    score = cnots\n",
    "\n",
    "    accuracy_threshold = 4.0 # in mHa\n",
    "    energy = result.optimal_value\n",
    "\n",
    "    if ansatz_type == \"TwoLocal\":\n",
    "        result_dict = {\n",
    "            'pass': (energy-exact_energy)*1000 <= accuracy_threshold,\n",
    "            'optimizer': optimizer.__class__.__name__,\n",
    "            'mapping': converter.mapper.__class__.__name__,\n",
    "            'ansatz': ansatz.__class__.__name__,\n",
    "            'rotation blocks': rotation_blocks,\n",
    "            'entanglement_blocks': entanglement_blocks,\n",
    "            'entanglement': entanglement,\n",
    "            'repetitions': repetitions,\n",
    "            'skip_final_rotation_layer': skip_final_rotation_layer,\n",
    "            'energy (Ha)': energy,\n",
    "            'error (mHa)': (energy-exact_energy)*1000,\n",
    "            '# of parameters': len(result.optimal_point),\n",
    "            'final parameters': result.optimal_point,\n",
    "            '# of evaluations': result.optimizer_evals,\n",
    "            'optimizer time': result.optimizer_time,\n",
    "            '# of qubits': int(qubit_op.num_qubits),\n",
    "            '# of CNOTs': cnots,\n",
    "            'score': score}\n",
    "    else:\n",
    "        result_dict = {\n",
    "            'pass': (energy-exact_energy)*1000 <= accuracy_threshold,\n",
    "            'optimizer': optimizer.__class__.__name__,\n",
    "            'mapping': converter.mapper.__class__.__name__,\n",
    "            'ansatz': ansatz.__class__.__name__,\n",
    "            'rotation blocks': None,\n",
    "            'entanglement_blocks': None,\n",
    "            'entanglement': None,\n",
    "            'repetitions': None,\n",
    "            'skip_final_rotation_layer': None,\n",
    "            'energy (Ha)': energy,\n",
    "            'error (mHa)': (energy-exact_energy)*1000,\n",
    "            '# of parameters': len(result.optimal_point),\n",
    "            'final parameters': result.optimal_point,\n",
    "            '# of evaluations': result.optimizer_evals,\n",
    "            'optimizer time': result.optimizer_time,\n",
    "            '# of qubits': int(qubit_op.num_qubits),\n",
    "            '# of CNOTs': cnots,\n",
    "            'score': score}\n",
    "    if show_plot:\n",
    "        # Plot the results\n",
    "        import matplotlib.pyplot as plt\n",
    "\n",
    "        fig, ax = plt.subplots(1, 1)\n",
    "        ax.set_xlabel('Iterations')\n",
    "        ax.set_ylabel('Energy')\n",
    "        ax.grid()\n",
    "        fig.text(0.7, 0.75, f'Energy: {result.optimal_value:.3f}\\nScore: {score:.0f}')\n",
    "        plt.title(f\"{result_dict['optimizer']}-{result_dict['mapping']}\\n{result_dict['ansatz']}\")\n",
    "        ax.plot(counts, values)\n",
    "        ax.axhline(exact_energy, linestyle='--')\n",
    "    if save_plot:    \n",
    "        fig_title = f\"\\\n",
    "        {result_dict['optimizer']}-\\\n",
    "        {result_dict['mapping']}-\\\n",
    "        {result_dict['ansatz']}-\\\n",
    "        Energy({result_dict['energy (Ha)']:.3f})-\\\n",
    "        Score({result_dict['score']:.0f})\\\n",
    "        .png\"\n",
    "        fig.savefig(fig_title, dpi=300)\n",
    "\n",
    "    return(result_dict, ansatz)\n",
    "\n",
    "    # Display and save the data\n",
    "    #import pandas as pd\n",
    "    #import os.path\n",
    "    #filename = 'results_%s.csv'%experiment_name\n",
    "    #if os.path.isfile(filename):\n",
    "    #    result_df = pd.read_csv(filename)\n",
    "    #    result_df = result_df.append([result_dict])\n",
    "    #else:\n",
    "    #    result_df = pd.DataFrame.from_dict([result_dict])\n",
    "    #result_df.to_csv(filename, index=False)\n",
    "    #result_df\n",
    "\n",
    "\n",
    "    # WRITE YOUR CODE BETWEEN THESE LINES - END\n",
    "    \n",
    "[r,a] = run()\n",
    "print(r)\n",
    "a.draw('mpl')"
   ]
  },
  {
   "cell_type": "code",
   "execution_count": null,
   "id": "c260a00e",
   "metadata": {},
   "outputs": [],
   "source": []
  }
 ],
 "metadata": {
  "kernelspec": {
   "display_name": "Python 3",
   "language": "python",
   "name": "python3"
  },
  "language_info": {
   "codemirror_mode": {
    "name": "ipython",
    "version": 3
   },
   "file_extension": ".py",
   "mimetype": "text/x-python",
   "name": "python",
   "nbconvert_exporter": "python",
   "pygments_lexer": "ipython3",
   "version": "3.9.5"
  }
 },
 "nbformat": 4,
 "nbformat_minor": 5
}
