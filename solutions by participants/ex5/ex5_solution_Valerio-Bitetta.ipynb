{
 "cells": [
  {
   "cell_type": "markdown",
   "metadata": {},
   "source": [
    "# Final Challenge - VQE for LiH molecule\n",
    "Have a look to the [notebook of Ex5](https://github.com/qiskit-community/ibm-quantum-challenge-2021/blob/main/content/ex5/ex5.ipynb) to read the problem statement!\n"
   ]
  },
  {
   "cell_type": "code",
   "execution_count": null,
   "metadata": {},
   "outputs": [],
   "source": []
  },
  {
   "cell_type": "code",
   "execution_count": null,
   "metadata": {},
   "outputs": [],
   "source": []
  },
  {
   "cell_type": "markdown",
   "metadata": {},
   "source": [
    "## Get relevant information about the LiH molecule by applying a driver\n",
    "Here, we will use the [`PySCFDriver`](https://qiskit.org/documentation/stubs/qiskit.chemistry.drivers.PySCFDriver.html) in order to get relevant information about the LiH molecule."
   ]
  },
  {
   "cell_type": "code",
   "execution_count": 1,
   "metadata": {
    "scrolled": true
   },
   "outputs": [
    {
     "name": "stdout",
     "output_type": "stream",
     "text": [
      "What is the total number of electrons? 4\n",
      "What is the number of molecular orbitals? 6\n",
      "What is the index of the core orbital? [0]\n",
      "What is the number of spin-orbitals? 12\n",
      "How many qubits would you need to simulate this molecule with Jordan-Wigner mapping? 12\n"
     ]
    }
   ],
   "source": [
    "from qiskit_nature.drivers import PySCFDriver\n",
    "\n",
    "molecule = 'Li 0.0 0.0 0.0; H 0.0 0.0 1.5474'\n",
    "driver = PySCFDriver(molecule)\n",
    "qmolecule = driver.run()\n",
    "\n",
    "n_electrons = qmolecule.num_alpha + qmolecule.num_beta\n",
    "n_molecular_orbitals = qmolecule.num_molecular_orbitals\n",
    "orbital_energies = qmolecule.orbital_energies\n",
    "core_orbitals = qmolecule.core_orbitals\n",
    "n_spin_orbitals = 2*n_molecular_orbitals\n",
    "n_jw_qubits = n_spin_orbitals\n",
    "\n",
    "print(f\"What is the total number of electrons? {n_electrons}\")\n",
    "print(f\"What is the number of molecular orbitals? {n_molecular_orbitals}\")\n",
    "print(f\"What is the index of the core orbital? {core_orbitals}\")\n",
    "print(f\"What is the number of spin-orbitals? {n_spin_orbitals}\")\n",
    "print(f\"How many qubits would you need to simulate this molecule with Jordan-Wigner mapping? {n_jw_qubits}\")"
   ]
  },
  {
   "cell_type": "code",
   "execution_count": null,
   "metadata": {},
   "outputs": [],
   "source": []
  },
  {
   "cell_type": "code",
   "execution_count": null,
   "metadata": {},
   "outputs": [],
   "source": []
  },
  {
   "cell_type": "markdown",
   "metadata": {},
   "source": [
    "## Reducing the problem size\n",
    "Here we will reduce the size of the qubit operator.  \n",
    "By reducing the number of qubits needed to encode the qubit operator, the number of qubits needed to encode the ansatz will decrease accordingly."
   ]
  },
  {
   "cell_type": "markdown",
   "metadata": {},
   "source": [
    "Let's begin by understanding how many qubits are required in order to encode the qubit operator if no simplification is done."
   ]
  },
  {
   "cell_type": "code",
   "execution_count": 2,
   "metadata": {},
   "outputs": [
    {
     "name": "stdout",
     "output_type": "stream",
     "text": [
      "The number of qubits needed in order to encode the qubit operator if no simplification is done is 12.\n"
     ]
    }
   ],
   "source": [
    "from qiskit_nature.problems.second_quantization.electronic import ElectronicStructureProblem\n",
    "from qiskit_nature.mappers.second_quantization import JordanWignerMapper\n",
    "from qiskit_nature.converters.second_quantization.qubit_converter import QubitConverter\n",
    "\n",
    "original_problem = ElectronicStructureProblem(driver)\n",
    "\n",
    "# Generate the second-quantized operators\n",
    "second_q_ops = original_problem.second_q_ops()\n",
    "\n",
    "# Hamiltonian\n",
    "main_op = second_q_ops[0]\n",
    "\n",
    "# Setup the mapper and qubit converter\n",
    "mapper=JordanWignerMapper()\n",
    "original_converter = QubitConverter(mapper=mapper)\n",
    "qubit_op = original_converter.convert(main_op, num_particles=n_electrons)\n",
    "print(\"The number of qubits needed in order to encode the qubit operator \" \\\n",
    "      f\"if no simplification is done is {qubit_op.num_qubits}.\")"
   ]
  },
  {
   "cell_type": "markdown",
   "metadata": {},
   "source": [
    "Now, let's work in order to simplify the problem.  "
   ]
  },
  {
   "cell_type": "code",
   "execution_count": null,
   "metadata": {},
   "outputs": [],
   "source": []
  },
  {
   "cell_type": "markdown",
   "metadata": {},
   "source": [
    "### Transformers"
   ]
  },
  {
   "cell_type": "markdown",
   "metadata": {},
   "source": [
    "Orbitals are filled starting from the lowest energy ones. Each molecular orbital can be occupied by 2 electrons (spin $\\uparrow$, spin $\\downarrow$). Since LiH has 4 electrons and 6 molecular orbitals, our molecule has 2 molecular orbitals that are occupied (indices 0 and 1) and 4 molecular orbitals that are unoccupied (indices from 2 to 5 included). Each molecular orbital that we will be able to neglect by still maintaining an acceptable accuracy fot the solution will save us 2 qubits (1 qubit per spin orbital).\n",
    "\n",
    "By using the [`FreezeCoreTransformer`](https://qiskit.org/documentation/nature/stubs/qiskit_nature.transformers.FreezeCoreTransformer.html) we can get rid of the molecular orbitals that do not contribute significantly to the calculation of the ground state energy. Specifically, we will:\n",
    "- set the argument `freeze_core` to `True` (default). This will allow us to remove the *core orbital* of LiH, that is the lowest energy molecular orbital (index 0). Its contribution to the ground state energy is more or less fixed. Therefore, we can neglect it in the computation, and threat it as a constant shift by adding up its contribution to the ground state energy afterwards. **This will save us 2 qubits.**\n",
    "- set the argument `remove_orbitals` to `[3,4]`. This will allow us to remove the 3rd and 4th orbitas of LiH, neglecting their contribution in the computation of the ground state energy. **This will save us 4 qubits.**"
   ]
  },
  {
   "cell_type": "code",
   "execution_count": null,
   "metadata": {},
   "outputs": [],
   "source": []
  },
  {
   "cell_type": "markdown",
   "metadata": {},
   "source": [
    "First, we will check that the effect of the above simplifications is the one that we expected:"
   ]
  },
  {
   "cell_type": "code",
   "execution_count": 3,
   "metadata": {},
   "outputs": [
    {
     "name": "stdout",
     "output_type": "stream",
     "text": [
      "What is the total number of electrons in your system? 2\n",
      "What is the number of molecular orbitals? 3\n",
      "What is the number of spin-orbitals? 6\n",
      "How many qubits would you need to simulate this molecule with Jordan-Wigner mapping? 6\n"
     ]
    }
   ],
   "source": [
    "from qiskit_nature.transformers import FreezeCoreTransformer\n",
    "freezeCoreTransfomer = FreezeCoreTransformer(freeze_core=True, remove_orbitals=[3,4])\n",
    "qmolecule_transf = freezeCoreTransfomer.transform(qmolecule)\n",
    "\n",
    "n_electrons_transf = qmolecule_transf.num_alpha + qmolecule_transf.num_beta\n",
    "n_molecular_orbitals_transf = qmolecule_transf.num_molecular_orbitals\n",
    "n_spin_orbitals_transf = 2*n_molecular_orbitals_transf\n",
    "n_jw_qubits_transf = n_spin_orbitals_transf\n",
    "\n",
    "print(f\"What is the total number of electrons in your system? {n_electrons_transf}\")\n",
    "print(f\"What is the number of molecular orbitals? {n_molecular_orbitals_transf}\")\n",
    "print(f\"What is the number of spin-orbitals? {n_spin_orbitals_transf}\")\n",
    "print(f\"How many qubits would you need to simulate this molecule with Jordan-Wigner mapping? {n_jw_qubits_transf}\")"
   ]
  },
  {
   "cell_type": "markdown",
   "metadata": {},
   "source": [
    "NB: try not to pass the `remove_orbitals` argument to see how the answers change!"
   ]
  },
  {
   "cell_type": "code",
   "execution_count": null,
   "metadata": {},
   "outputs": [],
   "source": []
  },
  {
   "cell_type": "markdown",
   "metadata": {},
   "source": [
    "Then, we will actually apply the above simplifications:"
   ]
  },
  {
   "cell_type": "code",
   "execution_count": 4,
   "metadata": {},
   "outputs": [],
   "source": [
    "from qiskit_nature.problems.second_quantization.electronic import ElectronicStructureProblem\n",
    "\n",
    "freezeCoreTransfomer = FreezeCoreTransformer(freeze_core=True, remove_orbitals=[3,4])\n",
    "problem = ElectronicStructureProblem(driver, q_molecule_transformers=[freezeCoreTransfomer])\n",
    "\n",
    "# Generate the second-quantized operators\n",
    "second_q_ops = problem.second_q_ops()\n",
    "\n",
    "# Hamiltonian\n",
    "main_op = second_q_ops[0]"
   ]
  },
  {
   "cell_type": "code",
   "execution_count": null,
   "metadata": {},
   "outputs": [],
   "source": []
  },
  {
   "cell_type": "markdown",
   "metadata": {},
   "source": [
    "### Mapper and Qubit Converter"
   ]
  },
  {
   "cell_type": "markdown",
   "metadata": {},
   "source": [
    "Certain fermion-to-qubit mappers, such as the [`ParityMapper`](https://qiskit.org/documentation/nature/stubs/qiskit_nature.mappers.second_quantization.ParityMapper.html#qiskit_nature.mappers.second_quantization.ParityMapper), can reduce the size of the qubit operator by two qubits by exploiting symmetries during the mapping.  \n",
    "By setting to `True` the argument `two_qubit_reduction` of the [`QubitConverter`](https://qiskit.org/documentation/nature/stubs/qiskit_nature.converters.second_quantization.QubitConverter.html), we will tell the qubit converter to apply the two qubit reduction if possibile (that is, if the mapper supports it and the number of particles in the system is given). **This will save us 2 qubits.**"
   ]
  },
  {
   "cell_type": "code",
   "execution_count": 5,
   "metadata": {
    "scrolled": true
   },
   "outputs": [
    {
     "name": "stdout",
     "output_type": "stream",
     "text": [
      "The number of qubits of the qubit operator so obtained is 4\n"
     ]
    }
   ],
   "source": [
    "from qiskit_nature.converters.second_quantization.qubit_converter import QubitConverter\n",
    "from qiskit_nature.mappers.second_quantization import ParityMapper\n",
    "\n",
    "# Setup the mapper and qubit converter\n",
    "mapper = ParityMapper()\n",
    "converter = QubitConverter(mapper=mapper, two_qubit_reduction=True)\n",
    "\n",
    "# The fermionic operators are mapped to qubit operators\n",
    "num_particles = (problem.molecule_data_transformed.num_alpha,\n",
    "             problem.molecule_data_transformed.num_beta)\n",
    "qubit_op = converter.convert(main_op, num_particles=num_particles)\n",
    "print(f\"The number of qubits of the qubit operator so obtained is {qubit_op.num_qubits}\")"
   ]
  },
  {
   "cell_type": "markdown",
   "metadata": {},
   "source": [
    "NB: try not to pass the `two_qubit_reduction` argument to see how the answer changes!"
   ]
  },
  {
   "cell_type": "code",
   "execution_count": null,
   "metadata": {},
   "outputs": [],
   "source": []
  },
  {
   "cell_type": "markdown",
   "metadata": {},
   "source": [
    "### A quick check"
   ]
  },
  {
   "cell_type": "markdown",
   "metadata": {},
   "source": [
    "Having applied some simplifications, we can now check that the error introduced by the above simplifications is within the chemical accuracy of 4 mHa."
   ]
  },
  {
   "cell_type": "code",
   "execution_count": 6,
   "metadata": {},
   "outputs": [
    {
     "name": "stdout",
     "output_type": "stream",
     "text": [
      "The exact electronic ground state energy is -8.908697116424262 Ha\n",
      "The electronic ground state energy resulting after applying the above simplifications is -8.907396311315885 Ha\n",
      "The error introduced by the above simplifications is 1.3008051083769345 mHa\n"
     ]
    }
   ],
   "source": [
    "from qiskit_nature.algorithms.ground_state_solvers.minimum_eigensolver_factories import NumPyMinimumEigensolverFactory\n",
    "from qiskit_nature.algorithms.ground_state_solvers import GroundStateEigensolver\n",
    "import numpy as np \n",
    "\n",
    "def exact_diagonalizer(problem, converter):\n",
    "    solver = NumPyMinimumEigensolverFactory()\n",
    "    calc = GroundStateEigensolver(converter, solver)\n",
    "    result = calc.solve(problem)\n",
    "    return result\n",
    "\n",
    "result_exact = exact_diagonalizer(original_problem, original_converter)\n",
    "exact_electronic_energy = np.real(result_exact.electronic_energies[0])\n",
    "print(f\"The exact electronic ground state energy is {exact_electronic_energy} Ha\")\n",
    "\n",
    "result = exact_diagonalizer(problem, converter)\n",
    "electronic_energy = np.real(result.electronic_energies[0])\n",
    "frozen_core_energy = result._extracted_transformer_energies['FreezeCoreTransformer']\n",
    "print(f\"The electronic ground state energy resulting after applying the above simplifications is {electronic_energy} Ha\")\n",
    "\n",
    "print(f'The error introduced by the above simplifications is {1000*abs(exact_electronic_energy-electronic_energy)} mHa')"
   ]
  },
  {
   "cell_type": "code",
   "execution_count": null,
   "metadata": {},
   "outputs": [],
   "source": []
  },
  {
   "cell_type": "code",
   "execution_count": null,
   "metadata": {},
   "outputs": [],
   "source": []
  },
  {
   "cell_type": "markdown",
   "metadata": {},
   "source": [
    "## Solve the problem\n",
    "Here we will use the simplified qubit operator that we obtained in order to solve the problem using VQE.  \n",
    "Now that the size of the qubit operator has been reduced, we will be able to reach the solution with a small ansatz (simple problem, simple ansatz!)"
   ]
  },
  {
   "cell_type": "code",
   "execution_count": null,
   "metadata": {},
   "outputs": [],
   "source": []
  },
  {
   "cell_type": "markdown",
   "metadata": {},
   "source": [
    "### Ansatz\n",
    "Let's build the ansatz. In doing this, we will try to limit the number of CNOT gates to the mimimum that will still allow us to reach the goal (in the end, $score = N_{CNOT}$, isn't it?)."
   ]
  },
  {
   "cell_type": "markdown",
   "metadata": {},
   "source": [
    "First, we define the initial state to be the Hartree-Fock state:"
   ]
  },
  {
   "cell_type": "code",
   "execution_count": 7,
   "metadata": {},
   "outputs": [
    {
     "data": {
      "image/png": "[encoded data removed]",
      "text/plain": [
       "<Figure size 206.997x264.88 with 1 Axes>"
      ]
     },
     "execution_count": 7,
     "metadata": {},
     "output_type": "execute_result"
    }
   ],
   "source": [
    "from qiskit_nature.circuit.library import HartreeFock\n",
    "\n",
    "num_particles = (problem.molecule_data_transformed.num_alpha,\n",
    "             problem.molecule_data_transformed.num_beta)\n",
    "num_spin_orbitals = 2 *problem.molecule_data_transformed.num_molecular_orbitals\n",
    "init_state = HartreeFock(num_spin_orbitals, num_particles, converter)\n",
    "init_state.barrier()\n",
    "init_state.draw()"
   ]
  },
  {
   "cell_type": "code",
   "execution_count": null,
   "metadata": {},
   "outputs": [],
   "source": []
  },
  {
   "cell_type": "markdown",
   "metadata": {},
   "source": [
    "Then, we take a standard variational form such as [`Real Amplitudes`](https://qiskit.org/documentation/stubs/qiskit.circuit.library.RealAmplitudes.html). In order to limit the number of CNOT gates to 3, we will:\n",
    "- set the argument `reps` to `1`. This will allow to obtain a variational form that is composed of a single elementary building-block (circuit), instead of stacking several of them.\n",
    "- set the argument `entanglement` to linear. This will allow to entangle qubit $i$ to qubit $i+1$. Since we are dealing with 4 qubits, it is easy to see that this will limit to 3 the number of CNOT gates used by each elementary building-block that composes our variational form."
   ]
  },
  {
   "cell_type": "code",
   "execution_count": 8,
   "metadata": {},
   "outputs": [
    {
     "data": {
      "image/png": "[encoded data removed]",
      "text/plain": [
       "<Figure size 387.597x264.88 with 1 Axes>"
      ]
     },
     "execution_count": 8,
     "metadata": {},
     "output_type": "execute_result"
    }
   ],
   "source": [
    "from qiskit.circuit.library import RealAmplitudes\n",
    "variational_form = RealAmplitudes(qubit_op.num_qubits, reps=1, entanglement='linear')\n",
    "variational_form.draw()"
   ]
  },
  {
   "cell_type": "markdown",
   "metadata": {},
   "source": [
    "Then, we create our custom variational form by just modifying the Real Amplitudes circuit a little by displacing the last Ry gates in order to put them between the adjacent CNOTs:"
   ]
  },
  {
   "cell_type": "code",
   "execution_count": 9,
   "metadata": {},
   "outputs": [
    {
     "data": {
      "image/png": "[encoded data removed]",
      "text/plain": [
       "<Figure size 507.997x264.88 with 1 Axes>"
      ]
     },
     "execution_count": 9,
     "metadata": {},
     "output_type": "execute_result"
    }
   ],
   "source": [
    "from qiskit.circuit import QuantumCircuit, Parameter\n",
    "\n",
    "n = qubit_op.num_qubits\n",
    "qc = QuantumCircuit(qubit_op.num_qubits)\n",
    "\n",
    "for j in range(n): \n",
    "    qc.ry(Parameter(f'0_{j}'), j)\n",
    "for j in range(n-1):\n",
    "    qc.cx(j, j+1)\n",
    "    qc.ry(Parameter(f'1_{j+1}'), j+1)\n",
    "    \n",
    "variational_form = qc\n",
    "variational_form.draw()"
   ]
  },
  {
   "cell_type": "code",
   "execution_count": null,
   "metadata": {},
   "outputs": [],
   "source": []
  },
  {
   "cell_type": "markdown",
   "metadata": {},
   "source": [
    "Finally, we obtain the ansatz by composing the initial state and the variational form:"
   ]
  },
  {
   "cell_type": "code",
   "execution_count": 10,
   "metadata": {},
   "outputs": [
    {
     "data": {
      "image/png": "[encoded data removed]",
      "text/plain": [
       "<Figure size 628.397x264.88 with 1 Axes>"
      ]
     },
     "execution_count": 10,
     "metadata": {},
     "output_type": "execute_result"
    }
   ],
   "source": [
    "ansatz = init_state.compose(variational_form)\n",
    "ansatz.draw()"
   ]
  },
  {
   "cell_type": "markdown",
   "metadata": {},
   "source": [
    "We will see that even a small ansatz like this is enough."
   ]
  },
  {
   "cell_type": "code",
   "execution_count": null,
   "metadata": {},
   "outputs": [],
   "source": []
  },
  {
   "cell_type": "markdown",
   "metadata": {},
   "source": [
    "### VQE"
   ]
  },
  {
   "cell_type": "markdown",
   "metadata": {},
   "source": [
    "VQE needs a classical optimizer in order to find the optimal parameters of the circuit (parameters that, in our case, are the rotation angles associated to the Ry gates of the ansatz). We will stick to [`L_BFGS_B`](https://qiskit.org/documentation/stubs/qiskit.aqua.components.optimizers.L_BFGS_B.html) (but you can also try with other classical optimizers like [`COBYLA`](https://qiskit.org/documentation/stubs/qiskit.aqua.components.optimizers.COBYLA.html). In this case, increase the maximum number of iterations `maxiter` in order to be able to converge or at least to limit the truncation error)."
   ]
  },
  {
   "cell_type": "code",
   "execution_count": 11,
   "metadata": {},
   "outputs": [],
   "source": [
    "from qiskit.algorithms.optimizers import L_BFGS_B \n",
    "optimizer = L_BFGS_B()"
   ]
  },
  {
   "cell_type": "markdown",
   "metadata": {},
   "source": [
    "Time to run VQE!"
   ]
  },
  {
   "cell_type": "code",
   "execution_count": 12,
   "metadata": {},
   "outputs": [
    {
     "data": {
      "text/plain": [
       "'Iteration: 904, Energy: -8.904945838557593 Ha, absolute error: 3.7512778666695112 mHa'"
      ]
     },
     "metadata": {},
     "output_type": "display_data"
    }
   ],
   "source": [
    "from qiskit import Aer\n",
    "from qiskit.algorithms import VQE\n",
    "from IPython.display import display, clear_output\n",
    "\n",
    "backend = Aer.get_backend('statevector_simulator') \n",
    "\n",
    "# Print and save the data in lists\n",
    "def callback(eval_count, parameters, mean, std):  \n",
    "    # Overwrites the same line when printing\n",
    "    vqe_energy = frozen_core_energy+mean\n",
    "    abs_error = abs(exact_electronic_energy-vqe_energy)\n",
    "    display(f\"Iteration: {eval_count}, Energy: {vqe_energy} Ha, absolute error: {1000*abs_error} mHa\")\n",
    "    clear_output(wait=True)\n",
    "    counts.append(eval_count)\n",
    "    values.append(vqe_energy)\n",
    "    params.append(parameters)\n",
    "    deviation.append(std)\n",
    "\n",
    "counts = []\n",
    "values = []\n",
    "params = []\n",
    "deviation = []\n",
    "\n",
    "# Set initial parameters of the ansatz\n",
    "# We choose a fixed small displacement \n",
    "# So all participants start from similar starting point\n",
    "try:\n",
    "    initial_point = [0.01] * len(ansatz.ordered_parameters)\n",
    "except:\n",
    "    initial_point = [0.01] * ansatz.num_parameters\n",
    "\n",
    "\n",
    "algorithm = VQE(ansatz,\n",
    "                optimizer=optimizer,\n",
    "                quantum_instance=backend,\n",
    "                callback=callback,\n",
    "                initial_point=initial_point)\n",
    "\n",
    "result = algorithm.compute_minimum_eigenvalue(qubit_op)"
   ]
  },
  {
   "cell_type": "code",
   "execution_count": 13,
   "metadata": {},
   "outputs": [
    {
     "data": {
      "text/plain": [
       "[<matplotlib.lines.Line2D at 0x7f2ed4380c70>]"
      ]
     },
     "execution_count": 13,
     "metadata": {},
     "output_type": "execute_result"
    },
    {
     "data": {
      "image/png": "[encoded data removed]",
      "text/plain": [
       "<Figure size 432x288 with 1 Axes>"
      ]
     },
     "metadata": {
      "needs_background": "light"
     },
     "output_type": "display_data"
    }
   ],
   "source": [
    "# Display results \n",
    "from qiskit.transpiler import PassManager\n",
    "from qiskit.transpiler.passes import Unroller\n",
    "import matplotlib.pyplot as plt\n",
    "\n",
    "# Unroller transpile your circuit into CNOTs and U gates\n",
    "pass_ = Unroller(['u', 'cx'])\n",
    "pm = PassManager(pass_)\n",
    "ansatz_tp = pm.run(ansatz)\n",
    "cnots = ansatz_tp.count_ops()['cx']\n",
    "score = cnots\n",
    "\n",
    "fig, ax = plt.subplots(1, 1)\n",
    "plt.title(f\"computed energy vs number of iterations\")\n",
    "ax.set_ylabel('Energy')\n",
    "ax.set_xlabel('Iterations')\n",
    "ax.grid()\n",
    "ax.axhline(exact_electronic_energy, linestyle='--')\n",
    "ax.plot(counts, values)"
   ]
  },
  {
   "cell_type": "code",
   "execution_count": 14,
   "metadata": {},
   "outputs": [
    {
     "name": "stdout",
     "output_type": "stream",
     "text": [
      "Does the found solution reach the chemical accuracy of 4 mHa? Yes\n"
     ]
    }
   ],
   "source": [
    "vqe_energy = frozen_core_energy+result.eigenvalue\n",
    "abs_error = abs(vqe_energy - exact_electronic_energy)\n",
    "print(f\"Does the found solution reach the chemical accuracy of 4 mHa? {'Yes' if abs_error<0.004 else 'No'}\")"
   ]
  },
  {
   "cell_type": "code",
   "execution_count": null,
   "metadata": {},
   "outputs": [],
   "source": []
  }
 ],
 "metadata": {
  "kernelspec": {
   "display_name": "Python 3",
   "language": "python",
   "name": "python3"
  },
  "language_info": {
   "codemirror_mode": {
    "name": "ipython",
    "version": 3
   },
   "file_extension": ".py",
   "mimetype": "text/x-python",
   "name": "python",
   "nbconvert_exporter": "python",
   "pygments_lexer": "ipython3",
   "version": "3.8.8"
  }
 },
 "nbformat": 4,
 "nbformat_minor": 4
}
